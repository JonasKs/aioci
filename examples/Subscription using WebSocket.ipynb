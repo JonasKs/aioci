{
 "cells": [
  {
   "cell_type": "code",
   "execution_count": 1,
   "metadata": {
    "collapsed": true
   },
   "outputs": [],
   "source": [
    "from pyaci import Node, options"
   ]
  },
  {
   "cell_type": "markdown",
   "metadata": {},
   "source": [
    "## Turn on Logging\n",
    "Some of the `INFO` level log messages might help understanding the WebSocket control flow. If you are interested further, you can uncomment the line that increases the verbosity of messages."
   ]
  },
  {
   "cell_type": "code",
   "execution_count": 2,
   "metadata": {},
   "outputs": [],
   "source": [
    "import logging\n",
    "logging.basicConfig(level=logging.INFO)\n",
    "# logging.getLogger('pyaci').setLevel(logging.DEBUG)"
   ]
  },
  {
   "cell_type": "markdown",
   "metadata": {},
   "source": [
    "## Establish API Connection"
   ]
  },
  {
   "cell_type": "code",
   "execution_count": 3,
   "metadata": {},
   "outputs": [
    {
     "name": "stdout",
     "output_type": "stream",
     "text": [
      "Enter admin password: ········\n"
     ]
    },
    {
     "data": {
      "text/plain": [
       "<Response [200]>"
      ]
     },
     "execution_count": 3,
     "metadata": {},
     "output_type": "execute_result"
    }
   ],
   "source": [
    "n = Node('https://praveek6-bld.insieme.local:7000')\n",
    "n.methods.Login('admin').POST()"
   ]
  },
  {
   "cell_type": "markdown",
   "metadata": {},
   "source": [
    "## Start the WebSocket Listener\n",
    "\n",
    "This will initiate a connection to the APIC WebSocket URL, and will block until the connection is ready."
   ]
  },
  {
   "cell_type": "code",
   "execution_count": 4,
   "metadata": {},
   "outputs": [
    {
     "name": "stderr",
     "output_type": "stream",
     "text": [
      "INFO:pyaci.core:Establishing WebSocket connection to wss://praveek6-bld.insieme.local:7000/socketDAAAAAAAAAAAAAAAAAAAAIblE02bMwLAS2bLrvMUZkgJoyZ2u1vfIusOGVJxYBRslKYRk/+L9n5Gu8v0x7Dqde3xBr5QYXpW4jz20M5iyoxhqGknNFUCSy3lmVlchQMXNuMC5O6VpdBDdNPOcYwY4kdODyL/OtlhHlU/lsvuvES4fNHL7n2j6FllRh/gyzGjnCbyYRJU0bTbaiEOKCrBig==\n",
      "INFO:pyaci.core:Waiting for the WebSocket connection to open\n",
      "INFO:pyaci.core:Opened WebSocket connection\n"
     ]
    }
   ],
   "source": [
    "n.startWsListener()"
   ]
  },
  {
   "cell_type": "markdown",
   "metadata": {},
   "source": [
    "## Subscribe to Query\n",
    "\n",
    "You can subscribe to any `GET()` request by passing in the option `options.subscribe`. When this option is enabled, the result will be a tuple. The first field in the tuple is the list of resulting MOs. The second field in the tuple will be the subscription ID. This subscription ID is later used to query for MOs that arrived for that subscription."
   ]
  },
  {
   "cell_type": "code",
   "execution_count": 5,
   "metadata": {},
   "outputs": [],
   "source": [
    "tenants, subscriptionId = n.methods.ResolveClass('fvTenant').GET(**options.subscribe)"
   ]
  },
  {
   "cell_type": "markdown",
   "metadata": {},
   "source": [
    "## Checking if MOs Available to Read\n",
    "\n",
    "Node has a method `hasWsMo()` that will return `True` if there are any notification MOs, that can be read. You can use this to manually poll."
   ]
  },
  {
   "cell_type": "code",
   "execution_count": 6,
   "metadata": {},
   "outputs": [
    {
     "data": {
      "text/plain": [
       "False"
      ]
     },
     "execution_count": 6,
     "metadata": {},
     "output_type": "execute_result"
    }
   ],
   "source": [
    "n.hasWsMo(subscriptionId)"
   ]
  },
  {
   "cell_type": "markdown",
   "metadata": {},
   "source": [
    "## Triggering a Notification\n",
    "\n",
    "Let's create a tenant, that will trigger a notification for the previous subscription."
   ]
  },
  {
   "cell_type": "code",
   "execution_count": 7,
   "metadata": {},
   "outputs": [
    {
     "data": {
      "text/plain": [
       "<Response [200]>"
      ]
     },
     "execution_count": 7,
     "metadata": {},
     "output_type": "execute_result"
    }
   ],
   "source": [
    "n.mit.polUni().fvTenant('acme').POST()"
   ]
  },
  {
   "cell_type": "markdown",
   "metadata": {},
   "source": [
    "## Waiting for MOs\n",
    "\n",
    "Alternately, one could use `waitForWsMo()` method to block until a MO is available to read for that subscription."
   ]
  },
  {
   "cell_type": "code",
   "execution_count": 8,
   "metadata": {},
   "outputs": [
    {
     "name": "stderr",
     "output_type": "stream",
     "text": [
      "INFO:pyaci.core:Waiting for the WebSocket MOs\n"
     ]
    }
   ],
   "source": [
    "n.waitForWsMo(subscriptionId)"
   ]
  },
  {
   "cell_type": "code",
   "execution_count": 9,
   "metadata": {},
   "outputs": [
    {
     "data": {
      "text/plain": [
       "True"
      ]
     },
     "execution_count": 9,
     "metadata": {},
     "output_type": "execute_result"
    }
   ],
   "source": [
    "n.hasWsMo(subscriptionId)"
   ]
  },
  {
   "cell_type": "markdown",
   "metadata": {},
   "source": [
    "## Pop MO from the Notification Queue"
   ]
  },
  {
   "cell_type": "code",
   "execution_count": 10,
   "metadata": {},
   "outputs": [
    {
     "name": "stdout",
     "output_type": "stream",
     "text": [
      "{\n",
      "  \"fvTenant\": {\n",
      "    \"attributes\": {\n",
      "      \"childAction\": \"\",\n",
      "      \"descr\": \"\",\n",
      "      \"dn\": \"uni/tn-acme\",\n",
      "      \"extMngdBy\": \"\",\n",
      "      \"lcOwn\": \"local\",\n",
      "      \"modTs\": \"2017-11-15T07:52:26.292+00:00\",\n",
      "      \"monPolDn\": \"uni/tn-common/monepg-default\",\n",
      "      \"name\": \"acme\",\n",
      "      \"nameAlias\": \"\",\n",
      "      \"ownerKey\": \"\",\n",
      "      \"ownerTag\": \"\",\n",
      "      \"rn\": \"\",\n",
      "      \"status\": \"created\",\n",
      "      \"uid\": \"15374\"\n",
      "    }\n",
      "  }\n",
      "}\n"
     ]
    }
   ],
   "source": [
    "print n.popWsMo(subscriptionId).Json"
   ]
  }
 ],
 "metadata": {
  "kernelspec": {
   "display_name": "Python 2",
   "language": "python",
   "name": "python2"
  },
  "language_info": {
   "codemirror_mode": {
    "name": "ipython",
    "version": 2
   },
   "file_extension": ".py",
   "mimetype": "text/x-python",
   "name": "python",
   "nbconvert_exporter": "python",
   "pygments_lexer": "ipython2",
   "version": "2.7.13"
  }
 },
 "nbformat": 4,
 "nbformat_minor": 2
}