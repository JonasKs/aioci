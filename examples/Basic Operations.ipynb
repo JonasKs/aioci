{
 "cells": [
  {
   "cell_type": "code",
   "execution_count": null,
   "metadata": {
    "collapsed": false
   },
   "outputs": [],
   "source": [
    "from pyaci import Node, options\n",
    "import logging\n",
    "import requests\n",
    "\n",
    "requests.packages.urllib3.disable_warnings()\n",
    "\n",
    "# Establish a handle to the APIC, and login.\n",
    "apic = Node('https://praveek6-bld.insieme.local:7000')\n",
    "apic.methods.Login('admin', 'ins3965!').POST()"
   ]
  },
  {
   "cell_type": "code",
   "execution_count": null,
   "metadata": {
    "collapsed": false
   },
   "outputs": [],
   "source": [
    "# Create a local reference to a test tenant, and a test network.\n",
    "mit = apic.mit\n",
    "mit.polUni().fvTenant('test').fvCtx('test')\n",
    "\n",
    "# Dump the XML representation of the local MIT.\n",
    "print 'XML of the local MIT cache:'\n",
    "print mit.Xml\n",
    "\n",
    "# Dump the JSON representation of the local MIT.\n",
    "print 'JSON of the local MIT cache:'\n",
    "print mit.Json"
   ]
  },
  {
   "cell_type": "code",
   "execution_count": null,
   "metadata": {
    "collapsed": false
   },
   "outputs": [],
   "source": [
    "# Commit the local reference/cache to APIC.\n",
    "mit.POST(format='xml')"
   ]
  },
  {
   "cell_type": "code",
   "execution_count": null,
   "metadata": {
    "collapsed": false
   },
   "outputs": [],
   "source": [
    "# Fetch the management tenant from APIC.\n",
    "tenant = apic.mit.polUni().fvTenant('mgmt')\n",
    "tenant.GET()\n",
    "print tenant.Xml"
   ]
  },
  {
   "cell_type": "code",
   "execution_count": null,
   "metadata": {
    "collapsed": false
   },
   "outputs": [],
   "source": [
    "# Fetch the in-band BD subtree from APIC.\n",
    "bd = apic.mit.polUni().fvTenant('mgmt').fvBD('inb')\n",
    "bd.GET(**options.subtree)\n",
    "print bd.Xml"
   ]
  },
  {
   "cell_type": "code",
   "execution_count": null,
   "metadata": {
    "collapsed": false
   },
   "outputs": [],
   "source": [
    "# Query all private networks.\n",
    "ctxs = apic.mit.GET(**options.subtreeClass('fvCtx'))\n",
    "for ctx in ctxs:\n",
    "    print ctx.name"
   ]
  },
  {
   "cell_type": "code",
   "execution_count": null,
   "metadata": {
    "collapsed": false
   },
   "outputs": [],
   "source": [
    "# Query all private networks under management tenant.\n",
    "ctxs = apic.mit.polUni().fvTenant('mgmt').GET(**options.subtreeClass('fvCtx'))\n",
    "for ctx in ctxs:\n",
    "    print ctx.name"
   ]
  },
  {
   "cell_type": "code",
   "execution_count": null,
   "metadata": {
    "collapsed": false
   },
   "outputs": [],
   "source": [
    "# Query all direct children of management tenant.\n",
    "for child in apic.mit.polUni().fvTenant('mgmt').GET(**options.children):\n",
    "    print child.Dn"
   ]
  },
  {
   "cell_type": "code",
   "execution_count": null,
   "metadata": {
    "collapsed": false
   },
   "outputs": [],
   "source": [
    "# Query entire subtree under management tenant.\n",
    "for child in apic.mit.polUni().fvTenant('mgmt').GET(**options.subtree):\n",
    "    print child.Dn"
   ]
  },
  {
   "cell_type": "code",
   "execution_count": null,
   "metadata": {
    "collapsed": false
   },
   "outputs": [],
   "source": [
    "# Query faults under out-of-band management EPG.\n",
    "epg = apic.mit.polUni().fvTenant('mgmt').mgmtMgmtP('default').mgmtOoB('default')\n",
    "for fault in epg.GET(**options.faults):\n",
    "    print fault.descr"
   ]
  },
  {
   "cell_type": "code",
   "execution_count": null,
   "metadata": {
    "collapsed": false
   },
   "outputs": [],
   "source": [
    "# Query audit logs for test private network.\n",
    "for change in apic.mit.polUni().fvTenant('test').fvCtx('test').GET(**options.auditLogs):\n",
    "    print change.descr, change.changeSet"
   ]
  },
  {
   "cell_type": "code",
   "execution_count": null,
   "metadata": {
    "collapsed": false
   },
   "outputs": [],
   "source": [
    "# Use filter support to narrow query response.\n",
    "for node in apic.mit.GET(**options.subtreeClass('fabricNode') &\n",
    "                         options.filter(options.Eq('fabricNode.role', 'leaf') |\n",
    "                                        options.Eq('fabricNode.role', 'spine'))):\n",
    "    print node.name, node.role"
   ]
  }
 ],
 "metadata": {
  "kernelspec": {
   "display_name": "Python 2",
   "language": "python",
   "name": "python2"
  },
  "language_info": {
   "codemirror_mode": {
    "name": "ipython",
    "version": 2
   },
   "file_extension": ".py",
   "mimetype": "text/x-python",
   "name": "python",
   "nbconvert_exporter": "python",
   "pygments_lexer": "ipython2",
   "version": "2.7.9"
  }
 },
 "nbformat": 4,
 "nbformat_minor": 0
}
