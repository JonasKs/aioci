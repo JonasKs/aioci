{
 "cells": [
  {
   "cell_type": "code",
   "execution_count": 1,
   "metadata": {},
   "outputs": [
    {
     "name": "stdout",
     "output_type": "stream",
     "text": [
      "Enter admin password: ········\n"
     ]
    },
    {
     "data": {
      "text/plain": [
       "<Response [200]>"
      ]
     },
     "execution_count": 1,
     "metadata": {},
     "output_type": "execute_result"
    }
   ],
   "source": [
    "from pyaci import Node, options, filters\n",
    "import logging\n",
    "\n",
    "# Establish a handle to the APIC, and login.\n",
    "apic = Node('https://praveek6-bld.insieme.local:7000')\n",
    "apic.methods.Login('admin').POST()"
   ]
  },
  {
   "cell_type": "code",
   "execution_count": 2,
   "metadata": {},
   "outputs": [
    {
     "data": {
      "text/plain": [
       "<Response [200]>"
      ]
     },
     "execution_count": 2,
     "metadata": {},
     "output_type": "execute_result"
    }
   ],
   "source": [
    "# Delete a tenant.\n",
    "# This is here to cleanup the test tenant, and start from clean slate.\n",
    "# Don't worry if you're lost a little bit. Follow rest of the examples.\n",
    "apic.mit.polUni().fvTenant('initech').DELETE()"
   ]
  },
  {
   "cell_type": "code",
   "execution_count": 3,
   "metadata": {},
   "outputs": [
    {
     "name": "stdout",
     "output_type": "stream",
     "text": [
      "XML of the local MIT cache:\n",
      "<topRoot>\n",
      "  <polUni>\n",
      "    <fvTenant name=\"initech\">\n",
      "      <fvCtx name=\"test\"/>\n",
      "    </fvTenant>\n",
      "  </polUni>\n",
      "</topRoot>\n",
      "\n",
      "JSON of the local MIT cache:\n",
      "{\n",
      "  \"topRoot\": {\n",
      "    \"children\": [\n",
      "      {\n",
      "        \"polUni\": {\n",
      "          \"children\": [\n",
      "            {\n",
      "              \"fvTenant\": {\n",
      "                \"attributes\": {\n",
      "                  \"name\": \"initech\"\n",
      "                },\n",
      "                \"children\": [\n",
      "                  {\n",
      "                    \"fvCtx\": {\n",
      "                      \"attributes\": {\n",
      "                        \"name\": \"test\"\n",
      "                      }\n",
      "                    }\n",
      "                  }\n",
      "                ]\n",
      "              }\n",
      "            }\n",
      "          ]\n",
      "        }\n",
      "      }\n",
      "    ]\n",
      "  }\n",
      "}\n"
     ]
    }
   ],
   "source": [
    "# Create a local reference to a test tenant, and a test network.\n",
    "mit = apic.mit\n",
    "mit.polUni().fvTenant('initech').fvCtx('test')\n",
    "\n",
    "# Dump the XML representation of the local MIT.\n",
    "print 'XML of the local MIT cache:'\n",
    "print mit.Xml\n",
    "\n",
    "# Dump the JSON representation of the local MIT.\n",
    "print 'JSON of the local MIT cache:'\n",
    "print mit.Json"
   ]
  },
  {
   "cell_type": "code",
   "execution_count": 4,
   "metadata": {},
   "outputs": [
    {
     "data": {
      "text/plain": [
       "<Response [200]>"
      ]
     },
     "execution_count": 4,
     "metadata": {},
     "output_type": "execute_result"
    }
   ],
   "source": [
    "# Commit the local reference/cache to APIC.\n",
    "mit.POST(format='xml')"
   ]
  },
  {
   "cell_type": "code",
   "execution_count": 5,
   "metadata": {},
   "outputs": [
    {
     "name": "stdout",
     "output_type": "stream",
     "text": [
      "<fvTenant dn=\"uni/tn-mgmt\" lcOwn=\"local\" ownerKey=\"\" name=\"mgmt\" descr=\"\" extMngdBy=\"\" status=\"\" monPolDn=\"uni/tn-common/monepg-default\" modTs=\"2017-11-15T07:42:10.830+00:00\" ownerTag=\"\" childAction=\"\" nameAlias=\"\" uid=\"0\"/>\n",
      "\n"
     ]
    }
   ],
   "source": [
    "# Fetch the management tenant from APIC.\n",
    "tenant = apic.mit.polUni().fvTenant('mgmt')\n",
    "tenant.GET()\n",
    "print tenant.Xml"
   ]
  },
  {
   "cell_type": "code",
   "execution_count": 6,
   "metadata": {},
   "outputs": [
    {
     "name": "stdout",
     "output_type": "stream",
     "text": [
      "<fvBD dn=\"uni/tn-mgmt/BD-inb\" uid=\"0\" extMngdBy=\"\" arpFlood=\"no\" seg=\"15925206\" mcastAllow=\"no\" intersiteL2Stretch=\"no\" unicastRoute=\"yes\" unkMcastAct=\"flood\" OptimizeWanBandwidth=\"no\" descr=\"\" llAddr=\"::\" monPolDn=\"uni/tn-common/monepg-default\" modTs=\"2017-11-15T07:43:27.229+00:00\" scope=\"3112960\" type=\"regular\" ipLearning=\"yes\" status=\"\" vmac=\"not-applicable\" nameAlias=\"\" configIssues=\"\" bcastP=\"225.0.14.96\" mac=\"00:22:BD:F8:19:FF\" epMoveDetectMode=\"\" ownerTag=\"\" intersiteBumTrafficAllow=\"no\" childAction=\"\" lcOwn=\"local\" ownerKey=\"\" name=\"inb\" epClear=\"no\" unkMacUcastAct=\"proxy\" multiDstPktAct=\"bd-flood\" limitIpLearnToSubnets=\"yes\" mtu=\"inherit\" pcTag=\"32771\">\n",
      "  <fvRsIgmpsn dn=\"uni/tn-mgmt/BD-inb/rsigmpsn\" lcOwn=\"local\" tnIgmpSnoopPolName=\"\" tDn=\"uni/tn-common/snPol-default\" rType=\"mo\" stateQual=\"default-target\" state=\"formed\" modTs=\"2017-11-15T07:42:10.830+00:00\" tCl=\"igmpSnoopPol\" forceResolve=\"yes\" status=\"\" tContextDn=\"\" tRn=\"snPol-default\" uid=\"0\" tType=\"name\" childAction=\"\" monPolDn=\"uni/tn-common/monepg-default\"/>\n",
      "  <fvRsBDToNdP dn=\"uni/tn-mgmt/BD-inb/rsBDToNdP\" lcOwn=\"local\" tDn=\"uni/tn-common/ndifpol-default\" rType=\"mo\" stateQual=\"default-target\" state=\"formed\" modTs=\"2017-11-15T07:42:10.830+00:00\" tCl=\"ndIfPol\" forceResolve=\"yes\" status=\"\" tContextDn=\"\" tRn=\"ndifpol-default\" uid=\"0\" tType=\"name\" childAction=\"\" tnNdIfPolName=\"\" monPolDn=\"uni/tn-common/monepg-default\"/>\n",
      "  <fvRsCtx dn=\"uni/tn-mgmt/BD-inb/rsctx\" lcOwn=\"local\" tDn=\"uni/tn-mgmt/ctx-inb\" extMngdBy=\"\" stateQual=\"none\" tCl=\"fvCtx\" modTs=\"2017-11-15T07:42:10.830+00:00\" tnFvCtxName=\"inb\" rType=\"mo\" state=\"formed\" status=\"\" tContextDn=\"\" tRn=\"ctx-inb\" uid=\"0\" tType=\"name\" childAction=\"\" forceResolve=\"yes\" monPolDn=\"uni/tn-common/monepg-default\"/>\n",
      "  <fvRsBdToEpRet dn=\"uni/tn-mgmt/BD-inb/rsbdToEpRet\" lcOwn=\"local\" tDn=\"uni/tn-common/epRPol-default\" rType=\"mo\" stateQual=\"default-target\" resolveAct=\"resolve\" modTs=\"2017-11-15T07:42:10.830+00:00\" state=\"formed\" forceResolve=\"yes\" status=\"\" tContextDn=\"\" tRn=\"epRPol-default\" tCl=\"fvEpRetPol\" uid=\"0\" tType=\"name\" childAction=\"\" tnFvEpRetPolName=\"\" monPolDn=\"uni/tn-common/monepg-default\"/>\n",
      "</fvBD>\n",
      "\n"
     ]
    }
   ],
   "source": [
    "# Fetch the in-band BD subtree from APIC.\n",
    "bd = apic.mit.polUni().fvTenant('mgmt').fvBD('inb')\n",
    "bd.GET(**options.subtree)\n",
    "print bd.Xml"
   ]
  },
  {
   "cell_type": "code",
   "execution_count": 7,
   "metadata": {},
   "outputs": [
    {
     "name": "stdout",
     "output_type": "stream",
     "text": [
      "ave-ctrl\n",
      "oob\n",
      "copy\n",
      "default\n",
      "overlay-1\n",
      "inb\n",
      "test\n"
     ]
    }
   ],
   "source": [
    "# Query all private networks.\n",
    "ctxs = apic.methods.ResolveClass('fvCtx').GET()\n",
    "for ctx in ctxs:\n",
    "    print ctx.name"
   ]
  },
  {
   "cell_type": "code",
   "execution_count": 8,
   "metadata": {},
   "outputs": [
    {
     "name": "stdout",
     "output_type": "stream",
     "text": [
      "oob\n",
      "inb\n"
     ]
    }
   ],
   "source": [
    "# Query all private networks under management tenant.\n",
    "ctxs = apic.mit.polUni().fvTenant('mgmt').GET(**options.subtreeClass('fvCtx'))\n",
    "for ctx in ctxs:\n",
    "    print ctx.name"
   ]
  },
  {
   "cell_type": "code",
   "execution_count": 9,
   "metadata": {},
   "outputs": [
    {
     "name": "stdout",
     "output_type": "stream",
     "text": [
      "uni/tn-mgmt/domain-mgmt\n",
      "uni/tn-mgmt/BD-inb\n",
      "uni/tn-mgmt/ctx-oob\n",
      "uni/tn-mgmt/ctx-inb\n",
      "uni/tn-mgmt/rsTenantMonPol\n",
      "uni/tn-mgmt/extmgmt-default\n",
      "uni/tn-mgmt/mgmtp-default\n",
      "uni/tn-mgmt/svcCont\n"
     ]
    }
   ],
   "source": [
    "# Query all direct children of management tenant.\n",
    "for child in apic.mit.polUni().fvTenant('mgmt').GET(**options.children):\n",
    "    print child.Dn"
   ]
  },
  {
   "cell_type": "code",
   "execution_count": 10,
   "metadata": {},
   "outputs": [
    {
     "name": "stdout",
     "output_type": "stream",
     "text": [
      "uni/tn-mgmt/domain-mgmt\n",
      "uni/tn-mgmt/BD-inb/rsBDToNdP\n",
      "uni/tn-mgmt/BD-inb/rsbdToEpRet\n",
      "uni/tn-mgmt/BD-inb/rsctx\n",
      "uni/tn-mgmt/BD-inb/rsigmpsn\n",
      "uni/tn-mgmt/BD-inb\n",
      "uni/tn-mgmt/ctx-oob/rsbgpCtxPol\n",
      "uni/tn-mgmt/ctx-oob/rsctxToEpRet\n",
      "uni/tn-mgmt/ctx-oob/rsctxToExtRouteTagPol\n",
      "uni/tn-mgmt/ctx-oob/rsospfCtxPol\n",
      "uni/tn-mgmt/ctx-oob/rsvrfValidationPol\n",
      "uni/tn-mgmt/ctx-oob/any\n",
      "uni/tn-mgmt/ctx-oob\n",
      "uni/tn-mgmt/ctx-inb/rsbgpCtxPol\n",
      "uni/tn-mgmt/ctx-inb/rsctxToEpRet\n",
      "uni/tn-mgmt/ctx-inb/rsctxToExtRouteTagPol\n",
      "uni/tn-mgmt/ctx-inb/rsospfCtxPol\n",
      "uni/tn-mgmt/ctx-inb/rsvrfValidationPol\n",
      "uni/tn-mgmt/ctx-inb/rtctx-[uni/tn-mgmt/BD-inb]\n",
      "uni/tn-mgmt/ctx-inb/any\n",
      "uni/tn-mgmt/ctx-inb\n",
      "uni/tn-mgmt/rsTenantMonPol\n",
      "uni/tn-mgmt/extmgmt-default\n",
      "uni/tn-mgmt/mgmtp-default/oob-default\n",
      "uni/tn-mgmt/mgmtp-default\n",
      "uni/tn-mgmt/svcCont\n",
      "uni/tn-mgmt\n",
      "uni/tn-mgmt/mgmtp-default/oob-default/rsooBCtx\n",
      "uni/tn-mgmt/ctx-oob/rtmgmtOoBCtx-[uni/tn-mgmt/mgmtp-default/oob-default]\n"
     ]
    }
   ],
   "source": [
    "# Query entire subtree under management tenant.\n",
    "for child in apic.mit.polUni().fvTenant('mgmt').GET(**options.subtree):\n",
    "    print child.Dn"
   ]
  },
  {
   "cell_type": "code",
   "execution_count": 11,
   "metadata": {},
   "outputs": [
    {
     "name": "stdout",
     "output_type": "stream",
     "text": [
      "Configuration failed for EPG default due to Not Associated With Management Zone\n"
     ]
    }
   ],
   "source": [
    "# Query faults under out-of-band management EPG.\n",
    "epg = apic.mit.polUni().fvTenant('mgmt').mgmtMgmtP('default').mgmtOoB('default')\n",
    "for fault in epg.GET(**options.faults):\n",
    "    print fault.descr"
   ]
  },
  {
   "cell_type": "code",
   "execution_count": 14,
   "metadata": {},
   "outputs": [
    {
     "name": "stdout",
     "output_type": "stream",
     "text": [
      "2017-11-15T07:47:35.561+00:00 Ctx test created bdEnforcedEnable:no, knwMcastAct:permit, name:test, pcEnfDir:ingress, pcEnfPref:enforced\n",
      "2017-11-15T07:47:36.072+00:00 Ctx test modified descr (Old: , New: Test 1)\n",
      "2017-11-15T07:47:36.098+00:00 Ctx test modified descr (Old: Test 1, New: Test 2)\n"
     ]
    }
   ],
   "source": [
    "# Query audit logs for test private network.\n",
    "ctx = apic.mit.polUni().fvTenant('initech').fvCtx('test')\n",
    "ctx.descr = 'Test 1'\n",
    "ctx.POST()\n",
    "ctx.descr = 'Test 2'\n",
    "ctx.POST()\n",
    "for change in ctx.GET(**options.auditLogs):\n",
    "    print change.created, change.descr, change.changeSet"
   ]
  },
  {
   "cell_type": "code",
   "execution_count": 13,
   "metadata": {},
   "outputs": [
    {
     "name": "stdout",
     "output_type": "stream",
     "text": [
      "leaf1 leaf\n",
      "spine2 spine\n",
      "spine1 spine\n",
      "leaf2 leaf\n"
     ]
    }
   ],
   "source": [
    "# Use filter support to narrow query response.\n",
    "for node in apic.mit.GET(**options.subtreeClass('fabricNode') &\n",
    "                         options.filter(filters.Eq('fabricNode.role', 'leaf') |\n",
    "                                        filters.Eq('fabricNode.role', 'spine'))):\n",
    "    print node.name, node.role"
   ]
  },
  {
   "cell_type": "code",
   "execution_count": null,
   "metadata": {
    "collapsed": true
   },
   "outputs": [],
   "source": []
  }
 ],
 "metadata": {
  "kernelspec": {
   "display_name": "Python 2",
   "language": "python",
   "name": "python2"
  },
  "language_info": {
   "codemirror_mode": {
    "name": "ipython",
    "version": 2
   },
   "file_extension": ".py",
   "mimetype": "text/x-python",
   "name": "python",
   "nbconvert_exporter": "python",
   "pygments_lexer": "ipython2",
   "version": "2.7.13"
  }
 },
 "nbformat": 4,
 "nbformat_minor": 1
}
