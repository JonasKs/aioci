{
 "cells": [
  {
   "cell_type": "code",
   "execution_count": 1,
   "metadata": {
    "collapsed": false
   },
   "outputs": [
    {
     "data": {
      "text/plain": [
       "<Response [200]>"
      ]
     },
     "execution_count": 1,
     "metadata": {},
     "output_type": "execute_result"
    }
   ],
   "source": [
    "from pyaci import Node, options\n",
    "import logging\n",
    "\n",
    "# Establish a handle to the APIC, and login.\n",
    "apic = Node('https://praveek6-bld.insieme.local:7000',\n",
    "            verify=False, disableWarnings=True)\n",
    "apic.methods.Login('admin', 'ins3965!').POST()"
   ]
  },
  {
   "cell_type": "code",
   "execution_count": 2,
   "metadata": {
    "collapsed": false
   },
   "outputs": [
    {
     "data": {
      "text/plain": [
       "<Response [200]>"
      ]
     },
     "execution_count": 2,
     "metadata": {},
     "output_type": "execute_result"
    }
   ],
   "source": [
    "# Delete a tenant.\n",
    "# This is here to cleanup the test tenant, and start from clean slate.\n",
    "# Don't worry if you're lost a little bit. Follow rest of the examples.\n",
    "apic.mit.polUni().fvTenant('test').DELETE()"
   ]
  },
  {
   "cell_type": "code",
   "execution_count": 3,
   "metadata": {
    "collapsed": false
   },
   "outputs": [
    {
     "name": "stdout",
     "output_type": "stream",
     "text": [
      "XML of the local MIT cache:\n",
      "<topRoot>\n",
      "  <polUni>\n",
      "    <fvTenant name=\"test\">\n",
      "      <fvCtx name=\"test\"/>\n",
      "    </fvTenant>\n",
      "  </polUni>\n",
      "</topRoot>\n",
      "\n",
      "JSON of the local MIT cache:\n",
      "{\n",
      "  \"topRoot\": {\n",
      "    \"children\": [\n",
      "      {\n",
      "        \"polUni\": {\n",
      "          \"children\": [\n",
      "            {\n",
      "              \"fvTenant\": {\n",
      "                \"attributes\": {\n",
      "                  \"name\": \"test\"\n",
      "                },\n",
      "                \"children\": [\n",
      "                  {\n",
      "                    \"fvCtx\": {\n",
      "                      \"attributes\": {\n",
      "                        \"name\": \"test\"\n",
      "                      }\n",
      "                    }\n",
      "                  }\n",
      "                ]\n",
      "              }\n",
      "            }\n",
      "          ]\n",
      "        }\n",
      "      }\n",
      "    ]\n",
      "  }\n",
      "}\n"
     ]
    }
   ],
   "source": [
    "# Create a local reference to a test tenant, and a test network.\n",
    "mit = apic.mit\n",
    "mit.polUni().fvTenant('test').fvCtx('test')\n",
    "\n",
    "# Dump the XML representation of the local MIT.\n",
    "print 'XML of the local MIT cache:'\n",
    "print mit.Xml\n",
    "\n",
    "# Dump the JSON representation of the local MIT.\n",
    "print 'JSON of the local MIT cache:'\n",
    "print mit.Json"
   ]
  },
  {
   "cell_type": "code",
   "execution_count": 4,
   "metadata": {
    "collapsed": false
   },
   "outputs": [
    {
     "data": {
      "text/plain": [
       "<Response [200]>"
      ]
     },
     "execution_count": 4,
     "metadata": {},
     "output_type": "execute_result"
    }
   ],
   "source": [
    "# Commit the local reference/cache to APIC.\n",
    "mit.POST(format='xml')"
   ]
  },
  {
   "cell_type": "code",
   "execution_count": 5,
   "metadata": {
    "collapsed": false
   },
   "outputs": [
    {
     "name": "stdout",
     "output_type": "stream",
     "text": [
      "<fvTenant dn=\"uni/tn-mgmt\" lcOwn=\"local\" ownerKey=\"\" name=\"mgmt\" descr=\"\" status=\"\" monPolDn=\"uni/tn-common/monepg-default\" modTs=\"2015-05-25T20:47:56.553+00:00\" ownerTag=\"\" childAction=\"\" uid=\"0\"/>\n",
      "\n"
     ]
    }
   ],
   "source": [
    "# Fetch the management tenant from APIC.\n",
    "tenant = apic.mit.polUni().fvTenant('mgmt')\n",
    "tenant.GET()\n",
    "print tenant.Xml"
   ]
  },
  {
   "cell_type": "code",
   "execution_count": 6,
   "metadata": {
    "collapsed": false
   },
   "outputs": [
    {
     "name": "stdout",
     "output_type": "stream",
     "text": [
      "<fvBD dn=\"uni/tn-mgmt/BD-inb\" uid=\"0\" arpFlood=\"no\" seg=\"16383902\" unicastRoute=\"yes\" unkMcastAct=\"flood\" descr=\"\" llAddr=\"::\" monPolDn=\"uni/tn-common/monepg-default\" modTs=\"2015-05-25T20:49:06.353+00:00\" scope=\"2850816\" status=\"\" bcastP=\"225.0.102.80\" mac=\"00:22:BD:F8:19:FF\" epMoveDetectMode=\"\" ownerTag=\"\" childAction=\"\" lcOwn=\"local\" ownerKey=\"\" name=\"inb\" unkMacUcastAct=\"proxy\" multiDstPktAct=\"bd-flood\" limitIpLearnToSubnets=\"no\" mtu=\"inherit\" pcTag=\"16387\">\n",
      "  <fvRsIgmpsn dn=\"uni/tn-mgmt/BD-inb/rsigmpsn\" lcOwn=\"local\" tnIgmpSnoopPolName=\"\" tDn=\"uni/tn-common/snPol-default\" rType=\"mo\" stateQual=\"default-target\" state=\"formed\" modTs=\"2015-05-25T20:47:56.585+00:00\" tCl=\"igmpSnoopPol\" forceResolve=\"yes\" status=\"\" tContextDn=\"\" tRn=\"snPol-default\" uid=\"0\" tType=\"name\" childAction=\"\" monPolDn=\"uni/tn-common/monepg-default\"/>\n",
      "  <fvRsBDToNdP dn=\"uni/tn-mgmt/BD-inb/rsBDToNdP\" lcOwn=\"local\" tDn=\"uni/tn-common/ndifpol-default\" rType=\"mo\" stateQual=\"default-target\" state=\"formed\" modTs=\"2015-05-25T20:47:56.664+00:00\" tCl=\"ndIfPol\" forceResolve=\"yes\" status=\"\" tContextDn=\"\" tRn=\"ndifpol-default\" uid=\"0\" tType=\"name\" childAction=\"\" tnNdIfPolName=\"\" monPolDn=\"uni/tn-common/monepg-default\"/>\n",
      "  <fvRsCtx dn=\"uni/tn-mgmt/BD-inb/rsctx\" lcOwn=\"local\" tDn=\"uni/tn-mgmt/ctx-inb\" rType=\"mo\" stateQual=\"none\" state=\"formed\" modTs=\"2015-05-25T20:47:56.553+00:00\" tnFvCtxName=\"inb\" tCl=\"fvCtx\" forceResolve=\"yes\" status=\"\" tContextDn=\"\" tRn=\"ctx-inb\" uid=\"0\" tType=\"name\" childAction=\"\" monPolDn=\"uni/tn-common/monepg-default\"/>\n",
      "  <fvRsBdToEpRet dn=\"uni/tn-mgmt/BD-inb/rsbdToEpRet\" lcOwn=\"local\" tDn=\"uni/tn-common/epRPol-default\" rType=\"mo\" stateQual=\"default-target\" resolveAct=\"resolve\" modTs=\"2015-05-25T20:47:56.638+00:00\" state=\"formed\" forceResolve=\"yes\" status=\"\" tContextDn=\"\" tRn=\"epRPol-default\" tCl=\"fvEpRetPol\" uid=\"0\" tType=\"name\" childAction=\"\" tnFvEpRetPolName=\"\" monPolDn=\"uni/tn-common/monepg-default\"/>\n",
      "</fvBD>\n",
      "\n"
     ]
    }
   ],
   "source": [
    "# Fetch the in-band BD subtree from APIC.\n",
    "bd = apic.mit.polUni().fvTenant('mgmt').fvBD('inb')\n",
    "bd.GET(**options.subtree)\n",
    "print bd.Xml"
   ]
  },
  {
   "cell_type": "code",
   "execution_count": 7,
   "metadata": {
    "collapsed": false
   },
   "outputs": [
    {
     "name": "stdout",
     "output_type": "stream",
     "text": [
      "default\n",
      "test\n",
      "overlay-1\n",
      "oob\n",
      "inb\n"
     ]
    }
   ],
   "source": [
    "# Query all private networks.\n",
    "ctxs = apic.mit.GET(**options.subtreeClass('fvCtx'))\n",
    "for ctx in ctxs:\n",
    "    print ctx.name"
   ]
  },
  {
   "cell_type": "code",
   "execution_count": 8,
   "metadata": {
    "collapsed": false
   },
   "outputs": [
    {
     "name": "stdout",
     "output_type": "stream",
     "text": [
      "oob\n",
      "inb\n"
     ]
    }
   ],
   "source": [
    "# Query all private networks under management tenant.\n",
    "ctxs = apic.mit.polUni().fvTenant('mgmt').GET(**options.subtreeClass('fvCtx'))\n",
    "for ctx in ctxs:\n",
    "    print ctx.name"
   ]
  },
  {
   "cell_type": "code",
   "execution_count": 9,
   "metadata": {
    "collapsed": false
   },
   "outputs": [
    {
     "name": "stdout",
     "output_type": "stream",
     "text": [
      "uni/tn-mgmt/domain-mgmt\n",
      "uni/tn-mgmt/BD-inb\n",
      "uni/tn-mgmt/ctx-oob\n",
      "uni/tn-mgmt/ctx-inb\n",
      "uni/tn-mgmt/rsTenantMonPol\n",
      "uni/tn-mgmt/extmgmt-default\n",
      "uni/tn-mgmt/mgmtp-default\n"
     ]
    }
   ],
   "source": [
    "# Query all direct children of management tenant.\n",
    "for child in apic.mit.polUni().fvTenant('mgmt').GET(**options.children):\n",
    "    print child.Dn"
   ]
  },
  {
   "cell_type": "code",
   "execution_count": 10,
   "metadata": {
    "collapsed": false
   },
   "outputs": [
    {
     "name": "stdout",
     "output_type": "stream",
     "text": [
      "uni/tn-mgmt/domain-mgmt\n",
      "uni/tn-mgmt/BD-inb/rsBDToNdP\n",
      "uni/tn-mgmt/BD-inb/rsbdToEpRet\n",
      "uni/tn-mgmt/BD-inb/rsctx\n",
      "uni/tn-mgmt/BD-inb/rsigmpsn\n",
      "uni/tn-mgmt/BD-inb\n",
      "uni/tn-mgmt/ctx-oob/rsbgpCtxPol\n",
      "uni/tn-mgmt/ctx-oob/rsctxToEpRet\n",
      "uni/tn-mgmt/ctx-oob/rsctxToExtRouteTagPol\n",
      "uni/tn-mgmt/ctx-oob/rsospfCtxPol\n",
      "uni/tn-mgmt/ctx-oob/rtmgmtOoBCtx-[uni/tn-mgmt/mgmtp-default/oob-default]\n",
      "uni/tn-mgmt/ctx-oob/any\n",
      "uni/tn-mgmt/ctx-oob\n",
      "uni/tn-mgmt/ctx-inb/rsbgpCtxPol\n",
      "uni/tn-mgmt/ctx-inb/rsctxToEpRet\n",
      "uni/tn-mgmt/ctx-inb/rsctxToExtRouteTagPol\n",
      "uni/tn-mgmt/ctx-inb/rsospfCtxPol\n",
      "uni/tn-mgmt/ctx-inb/rtctx-[uni/tn-mgmt/BD-inb]\n",
      "uni/tn-mgmt/ctx-inb/any\n",
      "uni/tn-mgmt/ctx-inb\n",
      "uni/tn-mgmt/rsTenantMonPol\n",
      "uni/tn-mgmt/extmgmt-default\n",
      "uni/tn-mgmt/mgmtp-default/oob-default/rsooBCtx\n",
      "uni/tn-mgmt/mgmtp-default/oob-default\n",
      "uni/tn-mgmt/mgmtp-default\n",
      "uni/tn-mgmt\n"
     ]
    }
   ],
   "source": [
    "# Query entire subtree under management tenant.\n",
    "for child in apic.mit.polUni().fvTenant('mgmt').GET(**options.subtree):\n",
    "    print child.Dn"
   ]
  },
  {
   "cell_type": "code",
   "execution_count": 11,
   "metadata": {
    "collapsed": false
   },
   "outputs": [
    {
     "name": "stdout",
     "output_type": "stream",
     "text": [
      "Configuration failed for EPG default due to Not Associated With Management Zone\n"
     ]
    }
   ],
   "source": [
    "# Query faults under out-of-band management EPG.\n",
    "epg = apic.mit.polUni().fvTenant('mgmt').mgmtMgmtP('default').mgmtOoB('default')\n",
    "for fault in epg.GET(**options.faults):\n",
    "    print fault.descr"
   ]
  },
  {
   "cell_type": "code",
   "execution_count": 12,
   "metadata": {
    "collapsed": false
   },
   "outputs": [
    {
     "name": "stdout",
     "output_type": "stream",
     "text": [
      "2015-05-27T02:39:22.946+00:00 Ctx test created knwMcastAct:permit, name:test, pcEnfPref:enforced\n",
      "2015-05-27T02:42:08.016+00:00 Ctx test modified descr (Old: , New: Test 1)\n",
      "2015-05-27T02:42:08.058+00:00 Ctx test modified descr (Old: Test 1, New: Test 2)\n",
      "2015-05-27T02:42:36.848+00:00 Ctx test modified descr (Old: Test 2, New: Test 1)\n",
      "2015-05-27T02:42:36.891+00:00 Ctx test modified descr (Old: Test 1, New: Test 2)\n",
      "2015-05-27T02:43:02.283+00:00 Ctx test modified descr (Old: Test 2, New: Test 1)\n",
      "2015-05-27T02:43:02.508+00:00 Ctx test modified descr (Old: Test 1, New: Test 2)\n",
      "2015-05-27T02:44:39.486+00:00 Ctx test deleted \n",
      "2015-05-27T02:45:08.884+00:00 Ctx test created knwMcastAct:permit, name:test, pcEnfPref:enforced\n",
      "2015-05-27T02:45:09.366+00:00 Ctx test modified descr (Old: , New: Test 1)\n",
      "2015-05-27T02:45:09.414+00:00 Ctx test modified descr (Old: Test 1, New: Test 2)\n",
      "2015-05-27T02:45:23.144+00:00 Ctx test deleted \n",
      "2015-05-27T02:45:23.264+00:00 Ctx test created knwMcastAct:permit, name:test, pcEnfPref:enforced\n",
      "2015-05-27T02:45:23.723+00:00 Ctx test modified descr (Old: , New: Test 1)\n",
      "2015-05-27T02:45:23.769+00:00 Ctx test modified descr (Old: Test 1, New: Test 2)\n",
      "2015-05-27T02:47:18.964+00:00 Ctx test modified descr (Old: Test 2, New: Test 1)\n",
      "2015-05-27T02:47:19.024+00:00 Ctx test modified descr (Old: Test 1, New: Test 2)\n",
      "2015-05-27T02:47:44.355+00:00 Ctx test modified descr (Old: Test 2, New: Test 1)\n",
      "2015-05-27T02:47:44.414+00:00 Ctx test modified descr (Old: Test 1, New: Test 2)\n"
     ]
    }
   ],
   "source": [
    "# Query audit logs for test private network.\n",
    "ctx = apic.mit.polUni().fvTenant('test').fvCtx('test')\n",
    "ctx.descr = 'Test 1'\n",
    "ctx.POST()\n",
    "ctx.descr = 'Test 2'\n",
    "ctx.POST()\n",
    "for change in ctx.GET(**options.auditLogs):\n",
    "    print change.created, change.descr, change.changeSet"
   ]
  },
  {
   "cell_type": "code",
   "execution_count": 13,
   "metadata": {
    "collapsed": false
   },
   "outputs": [
    {
     "name": "stdout",
     "output_type": "stream",
     "text": [
      "leaf1 leaf\n",
      "spine1 spine\n",
      "spine2 spine\n",
      "leaf2 leaf\n"
     ]
    }
   ],
   "source": [
    "# Use filter support to narrow query response.\n",
    "for node in apic.mit.GET(**options.subtreeClass('fabricNode') &\n",
    "                         options.filter(options.Eq('fabricNode.role', 'leaf') |\n",
    "                                        options.Eq('fabricNode.role', 'spine'))):\n",
    "    print node.name, node.role"
   ]
  },
  {
   "cell_type": "code",
   "execution_count": null,
   "metadata": {
    "collapsed": true
   },
   "outputs": [],
   "source": []
  }
 ],
 "metadata": {
  "kernelspec": {
   "display_name": "Python 2",
   "language": "python",
   "name": "python2"
  },
  "language_info": {
   "codemirror_mode": {
    "name": "ipython",
    "version": 2
   },
   "file_extension": ".py",
   "mimetype": "text/x-python",
   "name": "python",
   "nbconvert_exporter": "python",
   "pygments_lexer": "ipython2",
   "version": "2.7.9"
  }
 },
 "nbformat": 4,
 "nbformat_minor": 0
}
